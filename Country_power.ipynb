{
  "nbformat": 4,
  "nbformat_minor": 0,
  "metadata": {
    "colab": {
      "private_outputs": true,
      "provenance": [],
      "authorship_tag": "ABX9TyOQ7RoQfdlGqFuJWzZ7d53O",
      "include_colab_link": true
    },
    "kernelspec": {
      "name": "python3",
      "display_name": "Python 3"
    },
    "language_info": {
      "name": "python"
    }
  },
  "cells": [
    {
      "cell_type": "markdown",
      "metadata": {
        "id": "view-in-github",
        "colab_type": "text"
      },
      "source": [
        "<a href=\"https://colab.research.google.com/github/mohan9345684510/Data-science-and-Machine-Learning-Project/blob/main/Country_power.ipynb\" target=\"_parent\"><img src=\"https://colab.research.google.com/assets/colab-badge.svg\" alt=\"Open In Colab\"/></a>"
      ]
    },
    {
      "cell_type": "code",
      "execution_count": null,
      "metadata": {
        "id": "7KsGtWUZp1A0"
      },
      "outputs": [],
      "source": [
        "import numpy as np\n",
        "import pandas as pd\n",
        "import matplotlib.pyplot as ply\n",
        "import seaborn as sns"
      ]
    },
    {
      "cell_type": "code",
      "source": [
        "Country_dataset = pd.read_csv('/content/2024_military_strength_by_country.csv')\n",
        "Country_dataset"
      ],
      "metadata": {
        "id": "K8kdAB2zqx0L"
      },
      "execution_count": null,
      "outputs": []
    },
    {
      "cell_type": "markdown",
      "source": [
        "# **explanation of the column titles in the dataset:**\n",
        "\n",
        "country: Name of the country.\n",
        "\n",
        "total_national_populations: Total population of the country.\n",
        "\n",
        "total_available_military_manpower: The number of individuals available for military service (not necessarily enlisted).\n",
        "\n",
        "total_manpower_fir_for_military_service: Number of people fit for military service based on physical or other criteria.\n",
        "\n",
        "total_population_reaching_military_age_annually: Population reaching the age eligible for military service each year.\n",
        "\n",
        "active_service_military_manpower: Number of personnel currently serving in active military roles.\n",
        "\n",
        "active_service_reserve_components: Number of personnel in the reserve forces, trained but not in active service.\n",
        "\n",
        "active_paramilitary_force_strength: Number of personnel in paramilitary forces (like national guards, border patrol, etc.).\n",
        "\n",
        "total_military_aircraft_strength: Total number of aircraft in the country's military inventory.\n",
        "\n",
        "total_fighter/interceptor_aircraft_strength: Total number of fighter and interceptor aircraft, typically used for air defense.\n",
        "\n",
        "total_dedicated_attack_aircraft_strength: Number of aircraft designed specifically for ground attack.\n",
        "\n",
        "total_transport_aircraft_fleet_strength: Total number of aircraft dedicated to transporting personnel, equipment, or supplies.\n",
        "\n",
        "total_special_mission_aircraft_strength: Total number of aircraft for specific missions (surveillance, reconnaissance, etc.).\n",
        "\n",
        "total_trainers_aircraft_strength: Number of training aircraft used for pilot instruction.\n",
        "\n",
        "total_helicopter_strength: Total number of helicopters in the military inventory.\n",
        "\n",
        "attack_helicopter_strength: Number of helicopters designed for offensive operations.\n",
        "\n",
        "total_airports: Number of airports in the country, potentially used for\n",
        "military or logistical purposes.\n",
        "\n",
        "total_army_strengths_units: Total number of army units (infantry, armored, etc.).\n",
        "\n",
        "total_tank_strengths_units: Total number of military tanks.\n",
        "\n",
        "total_armored_vehicle_strengths_units: Total number of armored vehicles.\n",
        "\n",
        "total_self-propelled_artillery_strengths_units: Number of self-propelled artillery vehicles (mobile artillery).\n",
        "\n",
        "total_towed_artillery_strengths_units: Number of non-mobile artillery pieces.\n",
        "\n",
        "total_rocket_projector_strengths_units: Number of rocket projector units used for missile launches.\n",
        "\n",
        "total_navy_fleet_strength: Total naval fleet size, including all vessels.\n",
        "\n",
        "total_aircraft_carriers_fleet_strength: Number of aircraft carriers in the navy.\n",
        "\n",
        "total_helicopter_carriers_fleet_strength: Number of helicopter carriers in the navy.\n",
        "\n",
        "total_amphibious_warfare_fleet_strength: Total number of amphibious warfare ships.\n",
        "\n",
        "total_frigates_fleet_strength: Total number of frigates (small to mid-sized warships).\n",
        "\n",
        "total_corvettes_fleet_strength: Number of corvettes (smaller than frigates, used for coastal defense).\n",
        "\n",
        "total_destroyers_fleet_strength: Total number of destroyers (large, fast, and powerful warships).\n",
        "\n",
        "total_submarines_fleet_strength: Total number of submarines.\n",
        "\n",
        "total_patrol_vessels_fleet_strength: Number of naval vessels designed for\n",
        "patrolling coastal areas.\n",
        "\n",
        "total_mine_warfare_vessels_fleet_strength: Number of vessels dedicated to mine warfare, such as laying or removing sea mines.\n",
        "\n",
        "total_proven_oil_reserves: Proven reserves of oil in the country, typically measured in barrels.\n",
        "\n",
        "total_proven_gas_reserves: Proven reserves of natural gas in the country.\n",
        "\n",
        "total_proven_coal_reserves: Proven coal reserves in the country.\n",
        "\n",
        "square_land_area: Total land area of the country in square kilometers.\n",
        "\n",
        "coastline_distances: Length of the country's coastline in kilometers.\n",
        "\n",
        "total_shared_borders_by_countries: Total length of borders shared with neighboring countries.\n",
        "\n",
        "total_waterway_coverage_by_countries: Total length of navigable waterways within the country.\n",
        "\n",
        "total_purchasing_power: Purchasing power of the country, an economic indicator reflecting the total amount of goods and services that can be purchased with a country's currency.\n",
        "\n",
        "official_defense_budget: Official defense/military budget allocated by the government.\n",
        "\n",
        "external_debt: Total amount of external debt the country owes to foreign creditors.\n",
        "\n",
        "foreign_exchange/gold_reserves: Amount of foreign exchange and gold reserves the country holds.\n",
        "\n",
        "official_labor_force: Total number of people in the official labor force.\n",
        "\n",
        "merchant_marine_total_fleet_strength: Total number of merchant ships in the country’s fleet (used for commercial shipping).\n",
        "\n",
        "ports_and_terminal_total_count: Total number of ports and terminals in the country.\n",
        "\n",
        "total_oil_production_daily_barrel_rate: The daily rate of oil production in barrels.\n",
        "\n",
        "total_oil_consumption_daily_barrel_rate: The daily rate of oil consumption in barrels.\n",
        "\n",
        "total_proved_oil_reserves_in_barrels: Proven oil reserves measured in barrels.\n",
        "\n",
        "total_nuclear_warheads: Total number of nuclear warheads the country possesses.\n",
        "\n",
        "nuclear_potential_country: Indicates whether the country has the potential to develop nuclear weapons (binary value: yes or no).\n",
        "\n",
        "total_estimated_defense_budget_expenditures_per_year: Estimated defense spending per year.\n",
        "\n",
        "purchasing_power_parity: Indicator showing the relative purchasing power of the country’s currency.\n",
        "\n",
        "official_salaries: Official salaries paid to military personnel.\n",
        "\n",
        "country_code: A unique code representing the country.\n",
        "\n",
        "capital_city: The capital city of the country.\n",
        "\n",
        "capital_city_population: Population of the capital city.\n",
        "\n",
        "rank: The military rank of the country, relative to others.\n",
        "\n",
        "pwr_index: Power Index, a composite score indicating the relative military strength of the country (lower values indicate more powerful militaries)."
      ],
      "metadata": {
        "id": "OG2kU2PrshAq"
      }
    },
    {
      "cell_type": "code",
      "source": [
        "Country_dataset.shape"
      ],
      "metadata": {
        "id": "4jFRgbETtMyM"
      },
      "execution_count": null,
      "outputs": []
    },
    {
      "cell_type": "code",
      "source": [
        "Country_dataset.columns"
      ],
      "metadata": {
        "id": "oNE5plmWSU9q"
      },
      "execution_count": null,
      "outputs": []
    },
    {
      "cell_type": "code",
      "source": [
        "Country_dataset.info()"
      ],
      "metadata": {
        "id": "auE5IUfTtgGQ"
      },
      "execution_count": null,
      "outputs": []
    },
    {
      "cell_type": "markdown",
      "source": [
        "In capital_city_population column is contain \",\" , so code consider as a object value\n",
        "\n",
        "we now change to numeric value"
      ],
      "metadata": {
        "id": "-JuUec9bvkW3"
      }
    },
    {
      "cell_type": "code",
      "source": [
        "Country_dataset['capital_city_population'] = Country_dataset['capital_city_population'].str.replace(',', '')\n",
        "\n",
        "# Then, convert the cleaned column to numeric\n",
        "Country_dataset['capital_city_population'] = pd.to_numeric(Country_dataset['capital_city_population'], errors='coerce')"
      ],
      "metadata": {
        "id": "gYjIEwtDtkTN"
      },
      "execution_count": null,
      "outputs": []
    },
    {
      "cell_type": "code",
      "source": [
        "Country_dataset.info()"
      ],
      "metadata": {
        "id": "xSxOMZr1vgQ_"
      },
      "execution_count": null,
      "outputs": []
    },
    {
      "cell_type": "code",
      "source": [
        "Country_dataset.describe()"
      ],
      "metadata": {
        "id": "Km045LMqwbcQ"
      },
      "execution_count": null,
      "outputs": []
    },
    {
      "cell_type": "markdown",
      "source": [
        "**Visualization for Top 20 country ranking**"
      ],
      "metadata": {
        "id": "QT6_T07ZFyai"
      }
    },
    {
      "cell_type": "code",
      "source": [
        "# Sort data by rank and select top 20 countries\n",
        "top_20 = Country_dataset.sort_values(by='rank').head(20)\n",
        "\n",
        "# Set the figure size\n",
        "ply.figure(figsize=(10, 20))\n",
        "\n",
        "# Create a bar plot for military ranks\n",
        "sns.barplot(x='rank', y='country', data=top_20, palette='viridis')\n",
        "\n",
        "# Add titles and labels\n",
        "ply.title('Top 20 Countries by Military Rank (2024)', fontsize=14)\n",
        "ply.xlabel('Rank', fontsize=12)\n",
        "ply.ylabel('Country', fontsize=12)\n",
        "\n",
        "# Show the plot\n",
        "ply.show()"
      ],
      "metadata": {
        "id": "ACpwSuVMDuOb"
      },
      "execution_count": null,
      "outputs": []
    },
    {
      "cell_type": "markdown",
      "source": [
        "**Relationship between the size of a country's land area and its population**"
      ],
      "metadata": {
        "id": "qKzV7FlGGFkm"
      }
    },
    {
      "cell_type": "code",
      "source": [
        "ply.figure(figsize=(10,6))\n",
        "\n",
        "sns.scatterplot(x='total_available_military_manpower', y='total_national_populations',data = Country_dataset ,hue='country', palette='muted',s=200, legend=False)\n",
        "ply.xscale('log')\n",
        "ply.yscale('log')\n",
        "# Add titles and labels\n",
        "ply.title('Comparison of Square Land Area and Total Population by Country (2024)', fontsize=14)\n",
        "ply.xlabel('Square Land Area (km²)', fontsize=12)\n",
        "ply.ylabel('Total National Population', fontsize=12)\n",
        "\n",
        "# Show the plot\n",
        "ply.show()"
      ],
      "metadata": {
        "id": "eMzkt_YXF9gT"
      },
      "execution_count": null,
      "outputs": []
    },
    {
      "cell_type": "markdown",
      "source": [
        "**Camparing Oil Productio ,Coal Production and Natural gas Production**\n",
        "\n",
        "**Because , their are key factor of economic Growth**"
      ],
      "metadata": {
        "id": "tZXxMCX2LCbI"
      }
    },
    {
      "cell_type": "code",
      "source": [
        "\n",
        "# Set the style and context\n",
        "sns.set(style='whitegrid', palette='pastel')\n",
        "\n",
        "# Sort the data by rank and select the top 20 countries\n",
        "top_20 = Country_dataset.sort_values(by='rank').head(20)\n",
        "\n",
        "# Set the figure size\n",
        "ply.figure(figsize=(14, 8))\n",
        "\n",
        "# Plot coal, oil, and natural gas production as line plots with scatter points\n",
        "\n",
        "sns.lineplot(x='country', y='coal_production_figures', data=top_20, marker='o', label='Coal Production', color='black',linestyle='-',linewidth=2.5, markersize=8,alpha=1.0 )\n",
        "sns.lineplot(x='country', y='oil_production_figures', data=top_20, marker='o', label='Oil Production', color='blue',linestyle='--', linewidth=2.5, markersize=8,alpha=1.0 )\n",
        "sns.lineplot(x='country', y='natural_gas_production_figures', data=top_20, marker='o', label='Natural Gas Production',color='green',linestyle=':',linewidth=3, markersize=8,alpha=1.0 )\n",
        "ply.yscale('log')\n",
        "# Rotate the x-axis labels for better readability\n",
        "ply.xticks(rotation=45, ha='right')\n",
        "\n",
        "# Add titles and labels\n",
        "ply.title('Comparison of Coal, Oil, and Natural Gas Production for Top 20 Countries by Military Rank (2024)', fontsize=16)\n",
        "ply.xlabel('Country', fontsize=12)\n",
        "ply.ylabel('Production Figures', fontsize=12)\n",
        "\n",
        "# Add gridlines\n",
        "ply.grid(True, linestyle='--', alpha=0.7)\n",
        "\n",
        "# Add a legend\n",
        "ply.legend(title='Production Type')\n",
        "\n",
        "# Show the plot\n",
        "ply.tight_layout()\n",
        "ply.show()"
      ],
      "metadata": {
        "id": "LdOZ10JiLB51"
      },
      "execution_count": null,
      "outputs": []
    },
    {
      "cell_type": "code",
      "source": [
        "# Sort the data by rank and select the top 20 countries\n",
        "top_20 = Country_dataset.sort_values(by='rank').head(20)\n",
        "\n",
        "# Set the figure size for subplots\n",
        "#plt.subplots(2, 2), meaning we will have 4 plots arranged in two rows and two columns.\n",
        "fig, axes = ply.subplots(2, 2, figsize=(14, 10))\n",
        "\n",
        "# Plot 1: Total Helicopter Strength\n",
        "sns.barplot(x='total_helicopter_strength', y='country', data=top_20, palette='Blues_d', ax=axes[0, 0])\n",
        "axes[0, 0].set_title('Total Helicopter Strength')\n",
        "axes[0, 0].set_xlabel('Total Helicopters')\n",
        "axes[0, 0].set_ylabel('Country')\n",
        "\n",
        "# Plot 2: Total Attack Helicopter Strength\n",
        "sns.barplot(x='total_attack_helicopter_strength', y='country', data=top_20, palette='Greens_d', ax=axes[0, 1])\n",
        "axes[0, 1].set_title('Total Attack Helicopter Strength')\n",
        "axes[0, 1].set_xlabel('Total Attack Helicopters')\n",
        "axes[0, 1].set_ylabel('')\n",
        "\n",
        "# Plot 3: Total Towed Artillery Strength\n",
        "sns.barplot(x='total_towed_artillery_strength', y='country', data=top_20, palette='Reds_d', ax=axes[1, 0])\n",
        "axes[1, 0].set_title('Total Towed Artillery Strength')\n",
        "axes[1, 0].set_xlabel('Total Towed Artillery')\n",
        "axes[1, 0].set_ylabel('Country')\n",
        "\n",
        "# Plot 4: Total Rocket Launcher Vehicle Strength\n",
        "sns.barplot(x='total_rocket_launcher_vehicle_strength', y='country', data=top_20, palette='Purples_d', ax=axes[1, 1])\n",
        "axes[1, 1].set_title('Total Rocket Launcher Vehicle Strength')\n",
        "axes[1, 1].set_xlabel('Total Rocket Launchers')\n",
        "axes[1, 1].set_ylabel('')\n",
        "\n",
        "# Adjust layout\n",
        "ply.tight_layout()\n",
        "ply.show()"
      ],
      "metadata": {
        "id": "vnM7IrWhTNQO"
      },
      "execution_count": null,
      "outputs": []
    },
    {
      "cell_type": "code",
      "source": [
        "# Drop non-numeric columns (like country names or categorical features) - You can modify this based on your dataset\n",
        "Country_dataset = Country_dataset.select_dtypes(include=[float, int]).dropna()"
      ],
      "metadata": {
        "id": "UV2e0qn6wobh"
      },
      "execution_count": null,
      "outputs": []
    },
    {
      "cell_type": "code",
      "source": [
        "# Correlation\n",
        "\n",
        "correlation = Country_dataset.corr()\n",
        "ply.figure(figsize=(20, 17))\n",
        "\n",
        "sns.heatmap(correlation,cbar=True,square=True,fmt='0.1f',annot=True,annot_kws={'size':8},cmap='coolwarm')"
      ],
      "metadata": {
        "id": "Bjvltwduxq4A"
      },
      "execution_count": null,
      "outputs": []
    },
    {
      "cell_type": "code",
      "source": [
        "# Features and target selection\n",
        "X = Country_dataset.drop('pwr_index', axis=1)  # Features (drop target column 'pwr_index')\n",
        "Y = Country_dataset['pwr_index']  # Target"
      ],
      "metadata": {
        "id": "gxMT3c0Vx7cG"
      },
      "execution_count": null,
      "outputs": []
    },
    {
      "cell_type": "code",
      "source": [
        "from sklearn.model_selection import train_test_split\n",
        "\n",
        "# Split the data into training and testing sets\n",
        "X_train, X_test, Y_train, Y_test = train_test_split(X, Y, test_size=0.2, random_state=42)\n"
      ],
      "metadata": {
        "id": "DmFUdb6OyD6z"
      },
      "execution_count": null,
      "outputs": []
    },
    {
      "cell_type": "code",
      "source": [
        "from sklearn.preprocessing import StandardScaler\n",
        "\n",
        "scaler = StandardScaler()\n",
        "X_train_scaled = scaler.fit_transform(X_train)\n",
        "X_test_scaled = scaler.transform(X_test)"
      ],
      "metadata": {
        "id": "9Mn8lmSyzrKC"
      },
      "execution_count": null,
      "outputs": []
    },
    {
      "cell_type": "code",
      "source": [
        "# Set print options to display the full array\n",
        "np.set_printoptions(threshold=np.inf)\n",
        "\n",
        "# Display all rows but only the first 10 columns\n",
        "print(X_test_scaled[:10, :])"
      ],
      "metadata": {
        "id": "EXa0FGxnWvKa"
      },
      "execution_count": null,
      "outputs": []
    },
    {
      "cell_type": "code",
      "source": [
        "from sklearn.linear_model import Ridge, Lasso\n",
        "from sklearn.metrics import mean_squared_error, r2_score"
      ],
      "metadata": {
        "id": "7Pdaeq790hVb"
      },
      "execution_count": null,
      "outputs": []
    },
    {
      "cell_type": "code",
      "source": [
        "# Ridge Regression Model\n",
        "ridge_model = Ridge(alpha=1.0)  # You can adjust alpha (regularization strength)\n",
        "ridge_model.fit(X_train_scaled, Y_train)"
      ],
      "metadata": {
        "id": "AYxuQbCKz2cg"
      },
      "execution_count": null,
      "outputs": []
    },
    {
      "cell_type": "code",
      "source": [
        "# Lasso Regression Model\n",
        "lasso_model = Lasso(alpha=0.1)  # You can adjust alpha (regularization strength)\n",
        "lasso_model.fit(X_train_scaled, Y_train)\n"
      ],
      "metadata": {
        "id": "yq3y3Cdqz_gN"
      },
      "execution_count": null,
      "outputs": []
    },
    {
      "cell_type": "code",
      "source": [
        "# Predictions\n",
        "ridge_pred = ridge_model.predict(X_test_scaled)\n",
        "lasso_pred = lasso_model.predict(X_test_scaled)"
      ],
      "metadata": {
        "id": "LDRbS9GD0Cek"
      },
      "execution_count": null,
      "outputs": []
    },
    {
      "cell_type": "code",
      "source": [
        "# Evaluate the models\n",
        "ridge_mse = mean_squared_error(Y_test, ridge_pred)\n",
        "lasso_mse = mean_squared_error(Y_test, lasso_pred)"
      ],
      "metadata": {
        "id": "x6U5gErp0HMj"
      },
      "execution_count": null,
      "outputs": []
    },
    {
      "cell_type": "code",
      "source": [
        "ridge_r2 = r2_score(Y_test, ridge_pred)\n",
        "lasso_r2 = r2_score(Y_test, lasso_pred)"
      ],
      "metadata": {
        "id": "iirQLwwI0NQ0"
      },
      "execution_count": null,
      "outputs": []
    },
    {
      "cell_type": "code",
      "source": [
        "# Print results\n",
        "print(\"Ridge Regression:\")\n",
        "print(f\"Mean Squared Error: {ridge_mse}\")\n",
        "print(f\"R-squared: {ridge_r2}\")"
      ],
      "metadata": {
        "id": "WrKUj46D0RJz"
      },
      "execution_count": null,
      "outputs": []
    },
    {
      "cell_type": "code",
      "source": [
        "print(\"\\nLasso Regression:\")\n",
        "print(f\"Mean Squared Error: {lasso_mse}\")\n",
        "print(f\"R-squared: {lasso_r2}\")"
      ],
      "metadata": {
        "id": "zu1n9Qxn0ONx"
      },
      "execution_count": null,
      "outputs": []
    },
    {
      "cell_type": "code",
      "source": [
        "Y_test = list(Y_test)\n",
        "\n",
        "ply.plot(Y_test,color='blue',label='Actual Value')\n",
        "ply.plot(ridge_pred,color='green',label='Predicted Value')\n",
        "ply.title('Autual Power Index VS Predicted PowerInder')\n",
        "ply.xlabel('Number of values')\n",
        "ply.ylabel('Power Index')\n",
        "ply.legend()\n",
        "ply.show()"
      ],
      "metadata": {
        "id": "Otqym3MV30Uh"
      },
      "execution_count": null,
      "outputs": []
    },
    {
      "cell_type": "code",
      "source": [
        "Y_test = list(Y_test)\n",
        "\n",
        "ply.plot(Y_test,color='blue',label='Actual Value')\n",
        "ply.plot(lasso_pred,color='green',label='Predicted Value')\n",
        "ply.title('Autual Power Index VS Predicted PowerInder')\n",
        "ply.xlabel('Number of values')\n",
        "ply.ylabel('Power Index')\n",
        "ply.legend()\n",
        "ply.show()"
      ],
      "metadata": {
        "id": "dh6uFNb54bI-"
      },
      "execution_count": null,
      "outputs": []
    },
    {
      "cell_type": "markdown",
      "source": [
        "# Rigde Input Perdiction"
      ],
      "metadata": {
        "id": "NdVhs3nkaPlF"
      }
    },
    {
      "cell_type": "code",
      "source": [
        "# Input Data\n",
        "\n",
        "input_data = (-3.06917861e-01, -2.89540194e-01 ,-2.81298505e-01 ,-3.12697844e-01,\n",
        "  -4.54003620e-01, -2.35823881e-01, -1.74593600e-01, -2.91174698e-01,\n",
        "  -3.36781939e-01 ,-2.71858421e-01 ,-3.05754343e-01 ,-3.18768443e-01,\n",
        "  -2.19761380e-01 ,-1.12040145e-01 ,-2.67676682e-01 ,-2.57255147e-01,\n",
        "  -3.79998442e-01 ,-3.67049890e-01 ,-2.21033200e-01 ,-3.82129898e-01,\n",
        "  -3.49345657e-01 ,-4.65748663e-01 ,-1.53610916e-01 ,-2.12238180e-01,\n",
        "  -3.15585970e-01 ,-2.04532836e-01 ,-4.82950869e-01 ,-3.06642760e-01,\n",
        "  -3.86440632e-01 , 4.33168322e-01 ,-2.02064083e-01 ,-2.71534367e-01,\n",
        "  -2.90323870e-01 ,-2.68429309e-01 ,-1.81803413e-01 ,-2.80189423e-01,\n",
        "  -5.06619083e-01 ,-3.17736698e-01 ,-2.30600157e-01 ,-2.38786905e-01,\n",
        "  -2.85236917e-01 ,-2.72903890e-01 ,-2.84493510e-01 ,-2.58599899e-01,\n",
        "  -2.79450935e-01 ,-2.47129823e-01 ,-1.71526147e-01 ,-1.55353838e-01,\n",
        "  -2.66555247e-01 ,-3.89855159e-01 ,-2.28133138e-01 ,-6.15535186e-01,\n",
        "  -3.40176951e-01 ,-5.44507982e-01 , 5.65207207e-01)\n",
        "\n",
        "# Changing input_data to a numpy array\n",
        "input_data_as_numpy_array = np.asarray(input_data)\n",
        "\n",
        "#Reshpe the array\n",
        "input_data_reshaped = input_data_as_numpy_array.reshape(1,-1)\n",
        "\n",
        "Prediction = ridge_model.predict(input_data_reshaped)\n",
        "\n",
        "print('Power index :' , Prediction[0])"
      ],
      "metadata": {
        "id": "nkEdgiJT3rKF"
      },
      "execution_count": null,
      "outputs": []
    },
    {
      "cell_type": "markdown",
      "source": [
        "# Lasso Input Prediction"
      ],
      "metadata": {
        "id": "-soFWc6BalIi"
      }
    },
    {
      "cell_type": "code",
      "source": [
        "input_data = ( 8.52165021e-01 , 8.83112865e-01,  8.66567648e-01 , 8.77196674e-01,\n",
        "   6.14274647e-01,  3.41548883e-01 , 1.04934647e-01 , 1.76225707e-01,\n",
        "  -1.35158644e-01 , 3.70995919e-01  ,7.71076326e-01 , 4.71243039e-01,\n",
        "   1.35738726e-01 ,-7.63350441e-02  ,6.88946443e-02 ,-2.57255147e-01,\n",
        "  -1.10760502e-01 , 6.10974803e-01, -8.22801142e-02 , 6.96059200e-02,\n",
        "  -1.94726496e-01 , 4.07838459e-01, -1.53610916e-01 , 7.72546975e-01,\n",
        "   5.32601007e-02 ,-2.04532836e-01,  6.08392653e-01 ,-1.21379426e-01,\n",
        "  -1.41036727e-01 , 2.88778881e-01,  9.25572177e-02 , 3.40468826e-02,\n",
        "   6.77152844e-01 , 7.04911669e-01,  3.01766976e+00 , 8.55192575e-01,\n",
        "   1.75949198e+00 , 1.89443903e-01,  6.34695774e-01 , 1.73823272e+00,\n",
        "   1.44646252e+00 , 1.03580173e+00,  2.33273468e-01 ,-3.50689627e-02,\n",
        "   8.11130773e-02 ,-1.77337040e-01, -1.37591786e-01 ,-8.06366290e-02,\n",
        "  -6.86394750e-02  ,3.29107418e+00,  1.22604245e-01 , 3.28077799e+00,\n",
        "   3.72866970e+00  ,1.33867552e-01, -1.47853021e+00)\n",
        "\n",
        "# Changing input_data to a numpy array\n",
        "input_data_as_numpy_array = np.asarray(input_data)\n",
        "\n",
        "#Reshpe the array\n",
        "input_data_reshaped = input_data_as_numpy_array.reshape(1,-1)\n",
        "\n",
        "Prediction = lasso_model.predict(input_data_reshaped)\n",
        "\n",
        "print('Power index :' , Prediction[0])"
      ],
      "metadata": {
        "id": "776Dn0PzZDzK"
      },
      "execution_count": null,
      "outputs": []
    },
    {
      "cell_type": "markdown",
      "source": [
        "#                                                                Completed.................................................................................."
      ],
      "metadata": {
        "id": "uE27FgCKZvpQ"
      }
    },
    {
      "cell_type": "code",
      "source": [],
      "metadata": {
        "id": "BAapPiMOaMj5"
      },
      "execution_count": null,
      "outputs": []
    }
  ]
}