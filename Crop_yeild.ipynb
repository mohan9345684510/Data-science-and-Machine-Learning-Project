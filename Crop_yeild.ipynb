{
  "nbformat": 4,
  "nbformat_minor": 0,
  "metadata": {
    "colab": {
      "private_outputs": true,
      "provenance": [],
      "authorship_tag": "ABX9TyPt9dv9oFviSPQG/136hJuA",
      "include_colab_link": true
    },
    "kernelspec": {
      "name": "python3",
      "display_name": "Python 3"
    },
    "language_info": {
      "name": "python"
    }
  },
  "cells": [
    {
      "cell_type": "markdown",
      "metadata": {
        "id": "view-in-github",
        "colab_type": "text"
      },
      "source": [
        "<a href=\"https://colab.research.google.com/github/mohan9345684510/Data-science-and-Machine-Learning-Project/blob/main/Crop_yeild.ipynb\" target=\"_parent\"><img src=\"https://colab.research.google.com/assets/colab-badge.svg\" alt=\"Open In Colab\"/></a>"
      ]
    },
    {
      "cell_type": "code",
      "execution_count": null,
      "metadata": {
        "id": "IZfEMbcsTvJM"
      },
      "outputs": [],
      "source": [
        "# Import Dependecies\n",
        "\n",
        "import numpy as np\n",
        "import pandas as pd\n",
        "import matplotlib.pyplot as plt\n",
        "import seaborn as sns"
      ]
    },
    {
      "cell_type": "code",
      "source": [
        "Crop_yield = pd.read_csv('/content/crop_yield.csv')\n",
        "Crop_yield"
      ],
      "metadata": {
        "id": "VidtXsTgUPzK"
      },
      "execution_count": null,
      "outputs": []
    },
    {
      "cell_type": "code",
      "source": [
        "Crop_yield.isnull().sum()"
      ],
      "metadata": {
        "id": "vSyuUG5fUrel"
      },
      "execution_count": null,
      "outputs": []
    },
    {
      "cell_type": "code",
      "source": [
        "Crop_yield.columns"
      ],
      "metadata": {
        "id": "tfvzUkNVWbgt"
      },
      "execution_count": null,
      "outputs": []
    },
    {
      "cell_type": "code",
      "source": [
        "Crop_yield['Crop'].value_counts()"
      ],
      "metadata": {
        "id": "phn_HiL0VVMC"
      },
      "execution_count": null,
      "outputs": []
    },
    {
      "cell_type": "code",
      "source": [
        "Crop_yield['State'].value_counts()"
      ],
      "metadata": {
        "id": "33pMeV6nWQAZ"
      },
      "execution_count": null,
      "outputs": []
    },
    {
      "cell_type": "code",
      "source": [
        "Crop_yield['Crop_Year'].value_counts()"
      ],
      "metadata": {
        "id": "P0QhTEfbbm9X"
      },
      "execution_count": null,
      "outputs": []
    },
    {
      "cell_type": "code",
      "source": [
        "Crop_yield['Season'].value_counts()"
      ],
      "metadata": {
        "id": "IjK4baPDW81s"
      },
      "execution_count": null,
      "outputs": []
    },
    {
      "cell_type": "code",
      "source": [
        "# Import binary Encoding\n",
        "\n",
        "!pip install category_encoders"
      ],
      "metadata": {
        "id": "M9EYQc5qXK-l"
      },
      "execution_count": null,
      "outputs": []
    },
    {
      "cell_type": "code",
      "source": [
        "import category_encoders as ce\n",
        "\n",
        "encoder = ce.BinaryEncoder(cols=['Crop','State','Season','Crop_Year'])\n",
        "encoded = encoder.fit_transform(Crop_yield)\n",
        "Crop_yield = encoded\n",
        "print(Crop_yield)"
      ],
      "metadata": {
        "id": "po01nPUPYiB4"
      },
      "execution_count": null,
      "outputs": []
    },
    {
      "cell_type": "code",
      "source": [
        "Crop_yield"
      ],
      "metadata": {
        "id": "yNZThL0Fasxu"
      },
      "execution_count": null,
      "outputs": []
    },
    {
      "cell_type": "code",
      "source": [
        "Crop_yield.shape"
      ],
      "metadata": {
        "id": "lonfBMmna98D"
      },
      "execution_count": null,
      "outputs": []
    },
    {
      "cell_type": "code",
      "source": [
        "from sklearn.model_selection import train_test_split\n",
        "\n",
        "X = Crop_yield.drop('Yield',axis=1)\n",
        "Y = Crop_yield['Yield']"
      ],
      "metadata": {
        "id": "CtPsUZT5hEKV"
      },
      "execution_count": null,
      "outputs": []
    },
    {
      "cell_type": "code",
      "source": [
        "X_train, X_test, Y_train, Y_test = train_test_split(X, Y, test_size=0.2, random_state=42)\n",
        "X_test\n",
        "#print(X_train)\n",
        "#print(Y_test)\n",
        "#print(Y_train)"
      ],
      "metadata": {
        "id": "bNJWWHUuhwDL"
      },
      "execution_count": null,
      "outputs": []
    },
    {
      "cell_type": "code",
      "source": [
        "Y_test.head()"
      ],
      "metadata": {
        "id": "6Plr92kfpuFI"
      },
      "execution_count": null,
      "outputs": []
    },
    {
      "cell_type": "code",
      "source": [
        "from sklearn.ensemble import GradientBoostingRegressor\n",
        "\n",
        "gbr = GradientBoostingRegressor(n_estimators=100, learning_rate=0.1, max_depth=5, random_state=42)\n",
        "gbr.fit(X_train, Y_train)"
      ],
      "metadata": {
        "id": "MMtkNYxKiFAr"
      },
      "execution_count": null,
      "outputs": []
    },
    {
      "cell_type": "code",
      "source": [
        "y_pred_test = gbr.predict(X_test)"
      ],
      "metadata": {
        "id": "oBh6N3nhiaRH"
      },
      "execution_count": null,
      "outputs": []
    },
    {
      "cell_type": "code",
      "source": [
        "from sklearn import metrics\n",
        "from sklearn.metrics import mean_squared_error, r2_score\n",
        "\n",
        "\n",
        "mse = mean_squared_error(Y_test, y_pred_test)\n",
        "r2 = r2_score(Y_test, y_pred_test)\n",
        "\n",
        "print(f\"Mean Squared Error: {mse}\")\n",
        "print(f\"R2 Score: {r2}\")"
      ],
      "metadata": {
        "id": "eehQ6_TrisOd"
      },
      "execution_count": null,
      "outputs": []
    },
    {
      "cell_type": "code",
      "source": [
        "y_pred_train = gbr.predict(X_train)\n",
        "\n",
        "mse = mean_squared_error(Y_train, y_pred_train)\n",
        "r2 = r2_score(Y_train, y_pred_train)\n",
        "\n",
        "print(f\"Mean Squared Error: {mse}\")\n",
        "print(f\"R2 Score: {r2}\")"
      ],
      "metadata": {
        "id": "dR9djj4ajR9b"
      },
      "execution_count": null,
      "outputs": []
    },
    {
      "cell_type": "code",
      "source": [
        "from sklearn.model_selection import GridSearchCV\n",
        "\n",
        "# Define the parameter grid\n",
        "param_grid = {\n",
        "    'n_estimators': [100, 200],\n",
        "    'learning_rate': [0.01, 0.1, 0.2],\n",
        "    'max_depth': [3, 5, 7]\n",
        "}\n",
        "\n",
        "# Initialize GridSearchCV\n",
        "grid_search = GridSearchCV(estimator=GradientBoostingRegressor(random_state=42),\n",
        "                           param_grid=param_grid,\n",
        "                           cv=5,\n",
        "                           scoring='neg_mean_squared_error',\n",
        "                           n_jobs=-1)\n",
        "\n",
        "# Fit GridSearchCV\n",
        "grid_search.fit(X_train, Y_train)\n",
        "\n",
        "# Best parameters and best score\n",
        "print(f\"Best Parameters: {grid_search.best_params_}\")\n",
        "print(f\"Best Score: {-grid_search.best_score_}\")"
      ],
      "metadata": {
        "id": "-kzmzD0ij_MY"
      },
      "execution_count": null,
      "outputs": []
    },
    {
      "cell_type": "code",
      "source": [
        "# Use the best estimator to make predictions\n",
        "best_gbr = grid_search.best_estimator_\n",
        "#print('best_gbr')\n",
        "y_pred = best_gbr.predict(X_test)\n",
        "\n",
        "# Evaluate the model\n",
        "mse = mean_squared_error(Y_test, y_pred)\n",
        "r2 = r2_score(Y_test, y_pred)\n",
        "\n",
        "print(f\"Mean Squared Error with Best Parameters: {mse}\")\n",
        "print(f\"R2 Score with Best Parameters: {r2}\")\n"
      ],
      "metadata": {
        "id": "zzRZUkUTkmcR"
      },
      "execution_count": null,
      "outputs": []
    },
    {
      "cell_type": "code",
      "source": [
        "# Building a predictive System\n",
        "\n",
        "input_data =(0\t,0\t,1\t,0\t,1\t,0\t,0\t,0\t,0\t,1\t,1\t,0\t,1\t,1\t,0\t,1\t,0\t,1,\t0\t,8270.0,10280\t,1484.3\t,8.776951e+05\t,2232.9000)\n",
        "\n",
        "# Changing input_data to a numpy array\n",
        "input_data_as_numpy_array = np.asarray(input_data)\n",
        "\n",
        "# Reshape the array\n",
        "input_data_reshaped = input_data_as_numpy_array.reshape(1,-1)\n",
        "\n",
        "prediction = best_gbr.predict(input_data_reshaped)\n",
        "print(prediction)\n",
        "\n",
        "print('Crop Yield',prediction[0])"
      ],
      "metadata": {
        "id": "Mq14YRonjllt"
      },
      "execution_count": null,
      "outputs": []
    },
    {
      "cell_type": "code",
      "source": [
        "# Compare actual values and predicted value in plot\n",
        "\n",
        "Y_test = list(Y_test)\n",
        "plt.plot(Y_test,color='red',label='Actual Value')\n",
        "plt.plot(y_pred,color='green',label='Predicted Value')\n",
        "plt.title('Autual value vs predicted value')\n",
        "plt.legend()\n",
        "plt.show()"
      ],
      "metadata": {
        "id": "I5D76Xskgj8n"
      },
      "execution_count": null,
      "outputs": []
    },
    {
      "cell_type": "code",
      "source": [],
      "metadata": {
        "id": "oYyyF6O3qJwj"
      },
      "execution_count": null,
      "outputs": []
    }
  ]
}