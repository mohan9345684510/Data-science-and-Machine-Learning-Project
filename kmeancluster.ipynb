{
  "nbformat": 4,
  "nbformat_minor": 0,
  "metadata": {
    "colab": {
      "private_outputs": true,
      "provenance": [],
      "authorship_tag": "ABX9TyOHWQG9AxI2XEQ9uoRPdsgb",
      "include_colab_link": true
    },
    "kernelspec": {
      "name": "python3",
      "display_name": "Python 3"
    },
    "language_info": {
      "name": "python"
    }
  },
  "cells": [
    {
      "cell_type": "markdown",
      "metadata": {
        "id": "view-in-github",
        "colab_type": "text"
      },
      "source": [
        "<a href=\"https://colab.research.google.com/github/mohan9345684510/Data-science-and-Machine-Learning-Project/blob/main/kmeancluster.ipynb\" target=\"_parent\"><img src=\"https://colab.research.google.com/assets/colab-badge.svg\" alt=\"Open In Colab\"/></a>"
      ]
    },
    {
      "cell_type": "code",
      "execution_count": null,
      "metadata": {
        "id": "MySQQ42XAmpj"
      },
      "outputs": [],
      "source": [
        "# Import Impedence\n",
        "\n",
        "import numpy as np\n",
        "import pandas as pd\n",
        "import matplotlib.pyplot as plt\n",
        "import seaborn as sns\n",
        "from sklearn.preprocessing import LabelEncoder"
      ]
    },
    {
      "cell_type": "code",
      "source": [
        "youtube_dataset = pd.read_csv('/content/youtube.csv')\n",
        "youtube_dataset"
      ],
      "metadata": {
        "id": "EGfRcBbbBh-i"
      },
      "execution_count": null,
      "outputs": []
    },
    {
      "cell_type": "code",
      "source": [
        "# Gatting imformation\n",
        "\n",
        "youtube_dataset.info()"
      ],
      "metadata": {
        "id": "YqfgXiM9BvhN"
      },
      "execution_count": null,
      "outputs": []
    },
    {
      "cell_type": "code",
      "source": [
        "youtube_data = youtube_dataset.dropna()"
      ],
      "metadata": {
        "id": "PbxAs9FMCEdA"
      },
      "execution_count": null,
      "outputs": []
    },
    {
      "cell_type": "code",
      "source": [
        "print(youtube_data)"
      ],
      "metadata": {
        "id": "5BX28SzpEhfW"
      },
      "execution_count": null,
      "outputs": []
    },
    {
      "cell_type": "code",
      "source": [
        "youtube_data['TOTAL_NUMBER_OF_VIDEOS'] = youtube_data['TOTAL_NUMBER_OF_VIDEOS'].str.replace('K','000').str.replace('M','000000').str.replace('B','000000000').str.replace('.','')"
      ],
      "metadata": {
        "id": "fCifHJVOhhUC"
      },
      "execution_count": null,
      "outputs": []
    },
    {
      "cell_type": "code",
      "source": [
        "youtube_data['TOTAL_NUMBER_OF_VIDEOS']"
      ],
      "metadata": {
        "id": "rHI3GuzblODt"
      },
      "execution_count": null,
      "outputs": []
    },
    {
      "cell_type": "code",
      "source": [
        "youtube_data['SUBSCRIBERS'] = youtube_data['SUBSCRIBERS'].str.replace('K','000').str.replace('M','000000').str.replace('B','000000000').str.replace('.','')"
      ],
      "metadata": {
        "id": "iL0WA4Czlgq0"
      },
      "execution_count": null,
      "outputs": []
    },
    {
      "cell_type": "code",
      "source": [
        "youtube_data['SUBSCRIBERS']"
      ],
      "metadata": {
        "id": "XjSS6n5vnZJO"
      },
      "execution_count": null,
      "outputs": []
    },
    {
      "cell_type": "code",
      "source": [
        "youtube_data['VIEWS'] = youtube_data['VIEWS'].str.replace('K','000').str.replace('M','000000').str.replace('B','000000000').str.replace('.','')"
      ],
      "metadata": {
        "id": "81vtOiPyndPd"
      },
      "execution_count": null,
      "outputs": []
    },
    {
      "cell_type": "code",
      "source": [
        "youtube_data['VIEWS']"
      ],
      "metadata": {
        "id": "kKBdzOhJn0dX"
      },
      "execution_count": null,
      "outputs": []
    },
    {
      "cell_type": "code",
      "source": [
        "from sklearn.preprocessing import StandardScaler\n",
        "\n",
        "columns_to_scale = ['TOTAL_NUMBER_OF_VIDEOS', 'SUBSCRIBERS', 'VIEWS']\n",
        "\n",
        "scaler = StandardScaler()\n",
        "X_scaled = scaler.fit_transform(youtube_data[columns_to_scale])\n",
        "\n",
        "youtube_data[columns_to_scale] = X_scaled\n",
        "\n",
        "print(youtube_data)"
      ],
      "metadata": {
        "id": "nJJUvQDADThL"
      },
      "execution_count": null,
      "outputs": []
    },
    {
      "cell_type": "code",
      "source": [
        "youtube_data"
      ],
      "metadata": {
        "id": "U9PUYOMsn3An"
      },
      "execution_count": null,
      "outputs": []
    },
    {
      "cell_type": "code",
      "source": [
        "youtube_data['CATEGORY'].value_counts()"
      ],
      "metadata": {
        "id": "or8p4ojzq1Pk"
      },
      "execution_count": null,
      "outputs": []
    },
    {
      "cell_type": "code",
      "source": [
        "plt.figure(figsize=(15, 12))\n",
        "sns.countplot(x='CATEGORY', data=youtube_data)\n",
        "plt.title('Count of YouTube Channels by Category')\n",
        "plt.xlabel('Category')\n",
        "plt.ylabel('Count')\n",
        "plt.xticks(rotation=45)\n",
        "plt.show()"
      ],
      "metadata": {
        "id": "iZXKH1GjoAmB"
      },
      "execution_count": null,
      "outputs": []
    },
    {
      "cell_type": "code",
      "source": [
        "# Label Encoding\n",
        "\n",
        "encoder = LabelEncoder()\n",
        "youtube_data['CATEGORY'] = encoder.fit_transform(youtube_data['CATEGORY'])"
      ],
      "metadata": {
        "id": "8p5OOzNassTH"
      },
      "execution_count": null,
      "outputs": []
    },
    {
      "cell_type": "code",
      "source": [
        "youtube_data"
      ],
      "metadata": {
        "id": "at3V9k8LwXaJ"
      },
      "execution_count": null,
      "outputs": []
    },
    {
      "cell_type": "code",
      "source": [
        "#import\n",
        "\n",
        "from sklearn.cluster import KMeans\n",
        "\n",
        "# Chossing Number of clusters\n",
        "\n",
        "W = youtube_data[['SUBSCRIBERS', 'VIEWS']].values"
      ],
      "metadata": {
        "id": "yc8xw6Md0rZA"
      },
      "execution_count": null,
      "outputs": []
    },
    {
      "cell_type": "code",
      "source": [
        "#W.info()"
      ],
      "metadata": {
        "id": "rIwS9KPU09DH"
      },
      "execution_count": null,
      "outputs": []
    },
    {
      "cell_type": "code",
      "source": [
        "#W = W.astype(float)"
      ],
      "metadata": {
        "id": "T8pXmD-a1Eu5"
      },
      "execution_count": null,
      "outputs": []
    },
    {
      "cell_type": "code",
      "source": [
        "#W.info()"
      ],
      "metadata": {
        "id": "n530kT0V1G--"
      },
      "execution_count": null,
      "outputs": []
    },
    {
      "cell_type": "code",
      "source": [
        "css2d = []\n",
        "for i in range(1, 11):\n",
        "    kmeans = KMeans(n_clusters=i, init='k-means++', random_state=42)\n",
        "    kmeans.fit(W)\n",
        "    css2d.append(kmeans.inertia_)  # Inertia is the sum of squared distances of samples to their closest cluster center."
      ],
      "metadata": {
        "id": "zFRHXMhU1Rdp"
      },
      "execution_count": null,
      "outputs": []
    },
    {
      "cell_type": "code",
      "source": [
        "# Plot the Elbow graph\n",
        "\n",
        "sns.set()\n",
        "plt.plot(range(1, 11), css2d)\n",
        "plt.title('Elbow Graph')\n",
        "plt.xlabel('Number of Clusters')\n",
        "plt.ylabel('WCSS')\n",
        "plt.show()\n"
      ],
      "metadata": {
        "id": "yfBHV6lG1hkm"
      },
      "execution_count": null,
      "outputs": []
    },
    {
      "cell_type": "code",
      "source": [
        "kmeans = KMeans(n_clusters= 4 , init='k-means++', random_state=42)"
      ],
      "metadata": {
        "id": "jRFEHAdj2kXx"
      },
      "execution_count": null,
      "outputs": []
    },
    {
      "cell_type": "code",
      "source": [
        "S = kmeans.fit_predict(W)"
      ],
      "metadata": {
        "id": "vV41DROz2xRA"
      },
      "execution_count": null,
      "outputs": []
    },
    {
      "cell_type": "code",
      "source": [
        "#S = S.astype(float)"
      ],
      "metadata": {
        "id": "XbD6_84N9mRN"
      },
      "execution_count": null,
      "outputs": []
    },
    {
      "cell_type": "code",
      "source": [
        "print(isinstance(W, np.ndarray))  # Should print True\n",
        "print(isinstance(S, np.ndarray))  # Should print True"
      ],
      "metadata": {
        "id": "DdzqQtZO8yAF"
      },
      "execution_count": null,
      "outputs": []
    },
    {
      "cell_type": "code",
      "source": [
        "print(\"Shape of W:\", W.shape)\n",
        "print(\"Shape of S:\", S.shape)"
      ],
      "metadata": {
        "id": "OdAKtseN6uIW"
      },
      "execution_count": null,
      "outputs": []
    },
    {
      "cell_type": "code",
      "source": [
        "import matplotlib.pyplot as plt\n",
        "\n",
        "plt.figure(figsize=(8, 8))\n",
        "\n",
        "# Plot clusters\n",
        "plt.scatter(W[S==0, 0], W[S==0, 1], s=50, c='green', label='Cluster 1')\n",
        "plt.scatter(W[S==1, 0], W[S==1, 1], s=50, c='red', label='Cluster 2')\n",
        "plt.scatter(W[S==2, 0], W[S==2, 1], s=50, c='blue', label='Cluster 3')\n",
        "plt.scatter(W[S==3, 0], W[S==3, 1], s=50, c='yellow', label='Cluster 4')\n",
        "\n",
        "plt.title('Clusters of YouTube Channels')\n",
        "plt.xlabel('SUBSCRIBERS')\n",
        "plt.ylabel('VIEWS')\n",
        "plt.legend()\n",
        "plt.show()\n"
      ],
      "metadata": {
        "id": "4byex3MM15_W"
      },
      "execution_count": null,
      "outputs": []
    },
    {
      "cell_type": "code",
      "source": [
        "plt.scatter(kmeans.cluster_centers_[:, 0], kmeans.cluster_centers_[:, 1], s=200, c='black', label='Centroids', marker='X')"
      ],
      "metadata": {
        "id": "VDdZDV6e_e9N"
      },
      "execution_count": null,
      "outputs": []
    },
    {
      "cell_type": "code",
      "source": [
        "\n",
        "#import\n",
        "\n",
        "from sklearn.cluster import KMeans\n",
        "\n",
        "# Chossing Number of clusters\n",
        "\n",
        "X = youtube_data[['SUBSCRIBERS', 'VIEWS', 'CATEGORY']].values\n",
        "\n"
      ],
      "metadata": {
        "id": "iN8JWUzEwgdQ"
      },
      "execution_count": null,
      "outputs": []
    },
    {
      "cell_type": "code",
      "source": [
        "wcss = []\n",
        "for i in range(1, 11):\n",
        "    kmeans = KMeans(n_clusters=i, init='k-means++', random_state=42)\n",
        "    kmeans.fit(X)\n",
        "    wcss.append(kmeans.inertia_)  # Inertia is the sum of squared distances of samples to their closest cluster center."
      ],
      "metadata": {
        "id": "Icz8NOXhze89"
      },
      "execution_count": null,
      "outputs": []
    },
    {
      "cell_type": "code",
      "source": [
        "# Plot the Elbow graph\n",
        "\n",
        "sns.set()\n",
        "plt.plot(range(1, 11), wcss)\n",
        "plt.title('Elbow Graph')\n",
        "plt.xlabel('Number of Clusters')\n",
        "plt.ylabel('WCSS')\n",
        "plt.show()"
      ],
      "metadata": {
        "id": "eKevZXRHzsXZ"
      },
      "execution_count": null,
      "outputs": []
    },
    {
      "cell_type": "code",
      "source": [
        "# Training the K-Means Clustering model\n",
        "\n",
        "kmeans = KMeans(n_clusters= 4 , init='k-means++', random_state=42)"
      ],
      "metadata": {
        "id": "yFxOjdgm4fXj"
      },
      "execution_count": null,
      "outputs": []
    },
    {
      "cell_type": "code",
      "source": [
        "Y = kmeans.fit_predict(X)"
      ],
      "metadata": {
        "id": "i86W4b5l5VNn"
      },
      "execution_count": null,
      "outputs": []
    },
    {
      "cell_type": "code",
      "source": [
        "print(Y)"
      ],
      "metadata": {
        "id": "mCY6lzv15ar6"
      },
      "execution_count": null,
      "outputs": []
    },
    {
      "cell_type": "code",
      "source": [
        "import matplotlib.pyplot as plt\n",
        "from mpl_toolkits.mplot3d import Axes3D\n",
        "\n",
        "fig = plt.figure(figsize=(15, 12))\n",
        "ax = fig.add_subplot(111, projection='3d')\n",
        "\n",
        "# Plot clusters\n",
        "ax.scatter(X[Y==0, 0], X[Y==0, 1], X[Y==0, 2], s=50, c='green', label='Cluster 1')\n",
        "ax.scatter(X[Y==1, 0], X[Y==1, 1], X[Y==1, 2], s=50, c='red', label='Cluster 2')\n",
        "ax.scatter(X[Y==2, 0], X[Y==2, 1], X[Y==2, 2], s=50, c='blue', label='Cluster 3')\n",
        "ax.scatter(X[Y==3, 0], X[Y==3, 1], X[Y==3, 2], s=50, c='yellow', label='Cluster 4')\n",
        "\n",
        "# Plot centroids\n",
        "ax.scatter(kmeans.cluster_centers_[:, 0], kmeans.cluster_centers_[:, 1], kmeans.cluster_centers_[:, 2], s=200, c='black', label='Centroids', marker='X')\n",
        "\n",
        "ax.set_title('Clusters of YouTube Channels')\n",
        "ax.set_xlabel('SUBSCRIBERS')\n",
        "ax.set_ylabel('VIEWS')\n",
        "ax.set_zlabel('CATEGORY')\n",
        "ax.legend()\n",
        "plt.show()\n"
      ],
      "metadata": {
        "id": "Ibk7b8Zm5yJW"
      },
      "execution_count": null,
      "outputs": []
    },
    {
      "cell_type": "code",
      "source": [],
      "metadata": {
        "id": "xPuR5cqqBQNg"
      },
      "execution_count": null,
      "outputs": []
    }
  ]
}