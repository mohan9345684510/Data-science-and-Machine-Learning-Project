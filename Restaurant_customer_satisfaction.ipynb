{
  "nbformat": 4,
  "nbformat_minor": 0,
  "metadata": {
    "colab": {
      "private_outputs": true,
      "provenance": [],
      "authorship_tag": "ABX9TyOZFJmNJLGMjyTJ7BdWxhm0",
      "include_colab_link": true
    },
    "kernelspec": {
      "name": "python3",
      "display_name": "Python 3"
    },
    "language_info": {
      "name": "python"
    }
  },
  "cells": [
    {
      "cell_type": "markdown",
      "metadata": {
        "id": "view-in-github",
        "colab_type": "text"
      },
      "source": [
        "<a href=\"https://colab.research.google.com/github/mohan9345684510/Data-science-and-Machine-Learning-Project/blob/main/Restaurant_customer_satisfaction.ipynb\" target=\"_parent\"><img src=\"https://colab.research.google.com/assets/colab-badge.svg\" alt=\"Open In Colab\"/></a>"
      ]
    },
    {
      "cell_type": "code",
      "execution_count": null,
      "metadata": {
        "id": "m2zVGvgs3sc7"
      },
      "outputs": [],
      "source": [
        "# Import Dependence\n",
        "\n",
        "import numpy as np\n",
        "import pandas as pd\n",
        "import matplotlib.pyplot as plt\n",
        "import seaborn as sns"
      ]
    },
    {
      "cell_type": "code",
      "source": [
        "# Import Dataset\n",
        "Dataset = pd.read_csv('/content/restaurant_customer_satisfaction.csv')\n",
        "Dataset.head(10)"
      ],
      "metadata": {
        "id": "rmy3vu6a5rmN"
      },
      "execution_count": null,
      "outputs": []
    },
    {
      "cell_type": "code",
      "source": [
        "Dataset.isnull().sum()"
      ],
      "metadata": {
        "id": "6UPeX0St6K5f"
      },
      "execution_count": null,
      "outputs": []
    },
    {
      "cell_type": "code",
      "source": [
        "# Data visualization\n",
        "\n",
        "plt.figure(figsize=(12, 8))\n",
        "\n",
        "for column in Dataset.select_dtypes(include=['object']).columns:\n",
        "  sns.countplot(y=column,data=Dataset,color='green')\n",
        "  plt.xticks(rotation=45)\n",
        "  plt.show()"
      ],
      "metadata": {
        "id": "5Sxk66NT6vmx"
      },
      "execution_count": null,
      "outputs": []
    },
    {
      "cell_type": "code",
      "source": [
        "Dataset.columns"
      ],
      "metadata": {
        "id": "3w26oNj8-lQA"
      },
      "execution_count": null,
      "outputs": []
    },
    {
      "cell_type": "code",
      "source": [
        "!pip install category_encoders\n",
        "\n",
        "import category_encoders as ce\n",
        "\n",
        "categorical_columns = ['Gender', 'VisitFrequency', 'PreferredCuisine', 'TimeOfVisit',\n",
        "                       'DiningOccasion', 'MealType']\n",
        "# Initialize the binary encoder\n",
        "encoder = ce.BinaryEncoder(cols=categorical_columns, drop_invariant=True)\n",
        "\n",
        "# Fit and transform the data\n",
        "data_encoded = encoder.fit_transform(Dataset)\n",
        "\n",
        "# Display the first few rows of the encoded dataset\n",
        "data_encoded.head()"
      ],
      "metadata": {
        "id": "zbKl49s57l-l"
      },
      "execution_count": null,
      "outputs": []
    },
    {
      "cell_type": "code",
      "source": [
        "from sklearn.tree import DecisionTreeClassifier\n",
        "from sklearn.model_selection import train_test_split\n",
        "from sklearn.metrics import accuracy_score, classification_report, confusion_matrix"
      ],
      "metadata": {
        "id": "EOEKk6Pu_EC8"
      },
      "execution_count": null,
      "outputs": []
    },
    {
      "cell_type": "code",
      "source": [
        "# Spliting Depended column and Independed value in Dataset\n",
        "X = data_encoded.drop('HighSatisfaction', axis=1)\n",
        "y = data_encoded['HighSatisfaction']"
      ],
      "metadata": {
        "id": "7DyiPCZWbXNQ"
      },
      "execution_count": null,
      "outputs": []
    },
    {
      "cell_type": "code",
      "source": [
        "# Split the data into training and testing sets\n",
        "X_train, X_test, y_train, y_test = train_test_split(X, y, test_size=0.3, random_state=42)\n"
      ],
      "metadata": {
        "id": "NWCqtF6rbr8f"
      },
      "execution_count": null,
      "outputs": []
    },
    {
      "cell_type": "code",
      "source": [
        "X_test.head()"
      ],
      "metadata": {
        "id": "4hykrbsCmQn0"
      },
      "execution_count": null,
      "outputs": []
    },
    {
      "cell_type": "code",
      "source": [
        "y_test.head()"
      ],
      "metadata": {
        "id": "Q0KswOxmnPcC"
      },
      "execution_count": null,
      "outputs": []
    },
    {
      "cell_type": "code",
      "source": [
        "#Model Building\n",
        "\n",
        "model = DecisionTreeClassifier(random_state=42)"
      ],
      "metadata": {
        "id": "SQACaqbMb0b7"
      },
      "execution_count": null,
      "outputs": []
    },
    {
      "cell_type": "code",
      "source": [
        "# Train the model\n",
        "model.fit(X_train, y_train)"
      ],
      "metadata": {
        "id": "z_aFED-bb5Yo"
      },
      "execution_count": null,
      "outputs": []
    },
    {
      "cell_type": "code",
      "source": [
        "# Model  Evaluation\n",
        "\n",
        "# accuracy on test data\n",
        "X_test_prediction = model.predict(X_test)\n",
        "test_data_accuracy = accuracy_score(X_test_prediction,y_test)\n",
        "print('Test data Accuracy =',test_data_accuracy*100)"
      ],
      "metadata": {
        "id": "2ssMUcXUcrt8"
      },
      "execution_count": null,
      "outputs": []
    },
    {
      "cell_type": "code",
      "source": [
        "report = classification_report(y_test, X_test_prediction)\n",
        "conf_matrix = confusion_matrix(y_test, X_test_prediction)"
      ],
      "metadata": {
        "id": "XlRZPQ8YhhrC"
      },
      "execution_count": null,
      "outputs": []
    },
    {
      "cell_type": "code",
      "source": [
        "print('\\nClassification Report:\\n', report)\n",
        "print('\\nConfusion Matrix:\\n', conf_matrix)"
      ],
      "metadata": {
        "id": "7uOf2v0BmBIi"
      },
      "execution_count": null,
      "outputs": []
    },
    {
      "cell_type": "code",
      "source": [
        "# Building predictive System\n",
        "\n",
        "input_data = (1770\t,48\t,1\t,0\t,73847\t,1\t,0\t,0\t,81.06013478132715\t,1\t,0\t,0\t,1\t,0\t,8\t,1\t,1\t,0\t,1\t,0,0\t,0\t,34.217811\t,3\t,1\t,2)\n",
        "\n",
        "# Changing the input data to numpy array\n",
        "\n",
        "input_data_as_numpy_array = np.asarray(input_data)\n",
        "\n",
        "# Reshape the data\n",
        "\n",
        "input_data_reshaped = input_data_as_numpy_array.reshape(1,-1)\n",
        "\n",
        "#Prediction\n",
        "\n",
        "Prediction =model.predict(input_data_reshaped)\n",
        "\n",
        "if(Prediction[0]==1):\n",
        "  print('Customer Satisfaction is Good')\n",
        "\n",
        "else:\n",
        "    print('Customer Satisfaction is Bad')\n",
        "\n"
      ],
      "metadata": {
        "id": "WUzo3yGWd6ZD"
      },
      "execution_count": null,
      "outputs": []
    },
    {
      "cell_type": "code",
      "source": [],
      "metadata": {
        "id": "VdsqMaROmGUF"
      },
      "execution_count": null,
      "outputs": []
    }
  ]
}