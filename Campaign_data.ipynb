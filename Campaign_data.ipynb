{
  "nbformat": 4,
  "nbformat_minor": 0,
  "metadata": {
    "colab": {
      "private_outputs": true,
      "provenance": [],
      "authorship_tag": "ABX9TyNzt6i/ciU/biMKnuV2mSlz",
      "include_colab_link": true
    },
    "kernelspec": {
      "name": "python3",
      "display_name": "Python 3"
    },
    "language_info": {
      "name": "python"
    }
  },
  "cells": [
    {
      "cell_type": "markdown",
      "metadata": {
        "id": "view-in-github",
        "colab_type": "text"
      },
      "source": [
        "<a href=\"https://colab.research.google.com/github/mohan9345684510/Data-science-and-Machine-Learning-Project/blob/main/Campaign_data.ipynb\" target=\"_parent\"><img src=\"https://colab.research.google.com/assets/colab-badge.svg\" alt=\"Open In Colab\"/></a>"
      ]
    },
    {
      "cell_type": "code",
      "execution_count": null,
      "metadata": {
        "id": "91Z3ErHpBKqu"
      },
      "outputs": [],
      "source": [
        "#Import Dependences\n",
        "\n",
        "import numpy as np\n",
        "import pandas as pd\n",
        "import seaborn as sns\n",
        "import matplotlib.pyplot as plt\n",
        "from sklearn.model_selection import train_test_split\n",
        "from sklearn.tree import DecisionTreeRegressor\n",
        "from sklearn import metrics\n",
        "from sklearn.metrics import mean_squared_error, mean_absolute_error, r2_score"
      ]
    },
    {
      "cell_type": "code",
      "source": [
        "# Load Dataset\n",
        "\n",
        "Campaign_data = pd.read_csv('/content/campaign_data.csv')\n",
        "Campaign_data.head(10)"
      ],
      "metadata": {
        "id": "a8gwgsEFB2Gs"
      },
      "execution_count": null,
      "outputs": []
    },
    {
      "cell_type": "markdown",
      "source": [
        "## By converting the column names to a list, you can easily find and manipulate the positions of specific columns using their index."
      ],
      "metadata": {
        "id": "vRjqd1VZI90G"
      }
    },
    {
      "cell_type": "code",
      "source": [
        "# Get the current list of columns\n",
        "cols = list(Campaign_data.columns)\n",
        "\n",
        "# Find the indices of the IsSuccessful and RaisedAmount columns\n",
        "index_raised = cols.index('RaisedAmount')\n",
        "index_success = cols.index('IsSuccessful')\n",
        "\n",
        "print(index_raised)\n",
        "print(index_success)"
      ],
      "metadata": {
        "id": "r_2KYmgIDOxV"
      },
      "execution_count": null,
      "outputs": []
    },
    {
      "cell_type": "code",
      "source": [
        "# Swap the positions of IsSuccessful and RaisedAmount\n",
        "cols[index_raised], cols[index_success] = cols[index_success], cols[index_raised]\n",
        "\n",
        "Campaign_data = Campaign_data[cols]"
      ],
      "metadata": {
        "id": "ISw1hG0XIW7A"
      },
      "execution_count": null,
      "outputs": []
    },
    {
      "cell_type": "code",
      "source": [
        "Campaign_data"
      ],
      "metadata": {
        "id": "kdOXXTdfGY1h"
      },
      "execution_count": null,
      "outputs": []
    },
    {
      "cell_type": "code",
      "source": [
        "Campaign_data.describe()"
      ],
      "metadata": {
        "id": "dBxTwQ42K2qT"
      },
      "execution_count": null,
      "outputs": []
    },
    {
      "cell_type": "code",
      "source": [
        "Campaign_data.info()"
      ],
      "metadata": {
        "id": "va5EG2t_K7lM"
      },
      "execution_count": null,
      "outputs": []
    },
    {
      "cell_type": "code",
      "source": [
        "category_column=['Category', 'LaunchMonth', 'Country', 'Currency', 'VideoIncluded']\n",
        "\n",
        "for i in category_column:\n",
        "    unique_values = Campaign_data[i].unique()\n",
        "    print(f\"Unique values in column '{i}': {unique_values}\")"
      ],
      "metadata": {
        "id": "BcRikJaZZeYC"
      },
      "execution_count": null,
      "outputs": []
    },
    {
      "cell_type": "code",
      "source": [
        "numeric_data = Campaign_data.select_dtypes(include=['int64', 'float64'])\n",
        "\n",
        "numeric_data"
      ],
      "metadata": {
        "id": "5BPUCVOVUS1g"
      },
      "execution_count": null,
      "outputs": []
    },
    {
      "cell_type": "code",
      "source": [
        "# Corelation\n",
        "\n",
        "\n",
        "\n",
        "corelation = numeric_data.corr()\n",
        "\n",
        "plt.figure(figsize=(10,10))\n",
        "sns.heatmap(corelation,cbar=True,square=True,fmt='0.1f',annot=True,annot_kws={'size':8},cmap='rainbow')"
      ],
      "metadata": {
        "id": "OrD62VHURt_T"
      },
      "execution_count": null,
      "outputs": []
    },
    {
      "cell_type": "code",
      "source": [
        "!pip install category_encoders\n",
        "\n",
        "import category_encoders as ce\n"
      ],
      "metadata": {
        "id": "4X_vKZ6kK_ad"
      },
      "execution_count": null,
      "outputs": []
    },
    {
      "cell_type": "code",
      "source": [
        "encoder = ce.BinaryEncoder(cols=['Category', 'LaunchMonth', 'Country', 'Currency', 'VideoIncluded'])\n",
        "encoder\n",
        "data_encoded = encoder.fit_transform(Campaign_data)\n",
        "data_encoded"
      ],
      "metadata": {
        "id": "kvBu_Zl0Lsot"
      },
      "execution_count": null,
      "outputs": []
    },
    {
      "cell_type": "code",
      "source": [
        "Campaign_data = data_encoded"
      ],
      "metadata": {
        "id": "wPZ5bU7adELs"
      },
      "execution_count": null,
      "outputs": []
    },
    {
      "cell_type": "code",
      "source": [
        "Campaign_data.shape"
      ],
      "metadata": {
        "id": "KK_XZxtBNXNC"
      },
      "execution_count": null,
      "outputs": []
    },
    {
      "cell_type": "code",
      "source": [
        "# Separate the Feature and Target in the Dataset\n",
        "\n",
        "X = Campaign_data.drop(['CampaignID','RaisedAmount'],axis=1)\n",
        "Y = Campaign_data['RaisedAmount']"
      ],
      "metadata": {
        "id": "gZ-1UL6hPmDv"
      },
      "execution_count": null,
      "outputs": []
    },
    {
      "cell_type": "code",
      "source": [
        "print(X)\n",
        "print(Y)"
      ],
      "metadata": {
        "id": "Dy4cHFZFY5eF"
      },
      "execution_count": null,
      "outputs": []
    },
    {
      "cell_type": "code",
      "source": [
        "#Splitting the Train and Test data\n",
        "\n",
        "X_train,X_test,Y_train,Y_test = train_test_split(X,Y,test_size=0.2,random_state=42)"
      ],
      "metadata": {
        "id": "uLvBtc_-cjtE"
      },
      "execution_count": null,
      "outputs": []
    },
    {
      "cell_type": "code",
      "source": [
        "X_test"
      ],
      "metadata": {
        "id": "2dgs8_ammJsF"
      },
      "execution_count": null,
      "outputs": []
    },
    {
      "cell_type": "code",
      "source": [
        "Y_test.head()"
      ],
      "metadata": {
        "id": "J_bKlAl6qg1j"
      },
      "execution_count": null,
      "outputs": []
    },
    {
      "cell_type": "code",
      "source": [
        "# Model Building\n",
        "\n",
        "model = DecisionTreeRegressor(max_depth=10, min_samples_split=20, min_samples_leaf=10)\n",
        "\n",
        "model.fit(X_train,Y_train)"
      ],
      "metadata": {
        "id": "-W_389EWeM4j"
      },
      "execution_count": null,
      "outputs": []
    },
    {
      "cell_type": "code",
      "source": [
        "# Model Evaluation\n",
        "\n",
        "# Make predictions\n",
        "y_pred = model.predict(X_test)\n",
        "y_predic = model.predict(X_train)\n",
        "\n",
        "\n",
        "# Evaluate the model\n",
        "mse = mean_squared_error(Y_test, y_pred)\n",
        "mae = mean_absolute_error(Y_test, y_pred)\n",
        "r2 = r2_score(Y_test, y_pred)\n",
        "r2_train = r2_score(Y_train, y_predic)\n",
        "\n",
        "print(f'R^2 Score: {r2*100:.2f}')\n",
        "print(f'R^2_train Score: {r2_train*100:.2f}')\n",
        "print(f'Mean Squared Error: {mse:.2f}')\n",
        "print(f'Mean Absolute Error: {mae:.2f}')\n",
        "\n"
      ],
      "metadata": {
        "id": "Em7Va6_8fzKD"
      },
      "execution_count": null,
      "outputs": []
    },
    {
      "cell_type": "code",
      "source": [
        "# Input Data\n",
        "\n",
        "input_data = (12917\t,1\t,61\t,373\t,0\t,0\t,1\t,0\t,1\t,1\t,1\t,1\t,0\t,1\t,1\t,0\t,1\t,0\t,1\t,0,33396\t,48)\n",
        "\n",
        "# Changing input_data to a numpy array\n",
        "input_data_as_numpy_array = np.asarray(input_data)\n",
        "\n",
        "#Reshpe the array\n",
        "input_data_reshaped = input_data_as_numpy_array.reshape(1,-1)\n",
        "\n",
        "Prediction = model.predict(input_data_reshaped)\n",
        "\n",
        "print('Raised Amount from Campaign :' , Prediction[0])"
      ],
      "metadata": {
        "id": "nczZBx-7kyFC"
      },
      "execution_count": null,
      "outputs": []
    }
  ]
}